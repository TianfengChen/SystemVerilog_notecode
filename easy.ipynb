{
 "cells": [
  {
   "cell_type": "code",
   "execution_count": 104,
   "metadata": {},
   "outputs": [],
   "source": [
    "import re\n",
    "io_text = '''\n",
    "    input clk,reset,\n",
    "    input [WIDTH-1:0] data_in,\n",
    "    output logic [WIDTH-1:0] data_out\n",
    "    '''\n",
    "\n",
    "\n",
    "\n",
    "define_text ='logic '+io_text.replace('input', '')\\\n",
    "                .replace('output', '')\\\n",
    "                .replace('logic', '')\\\n",
    "                .replace(\" \", \"\").replace('\\n','')\\\n",
    "                .replace(\",\", \",\\nlogic \")\\\n",
    "                .replace(',',';').rstrip('\\n').replace(']',']\\t')+';'\n",
    "\n",
    "pattern = r'\\[[^\\]]*\\]'\n",
    "io_text = re.sub(pattern, '', io_text)\\\n",
    "        .replace('input', '')\\\n",
    "        .replace('output', '')\\\n",
    "        .replace('logic', '')\\\n",
    "        .replace(\" \", \"\").replace('\\n','')\n",
    "        \n",
    "def replace_variables(code):\n",
    "    variables = code.split(\",\")\n",
    "    modified_variables = [f\"\\t.{var.strip()}({var.strip()})\" for var in variables]\n",
    "    modified_code = \",\\n\".join(modified_variables)\n",
    "    return modified_code\n",
    "\n",
    "io_text = replace_variables(io_text)\n"
   ]
  },
  {
   "cell_type": "code",
   "execution_count": 105,
   "metadata": {},
   "outputs": [
    {
     "name": "stdout",
     "output_type": "stream",
     "text": [
      "\t.clk(clk),\n",
      "\t.reset(reset),\n",
      "\t.data_in(data_in),\n",
      "\t.data_out(data_out)\n"
     ]
    }
   ],
   "source": [
    "print(io_text)"
   ]
  },
  {
   "cell_type": "code",
   "execution_count": 106,
   "metadata": {},
   "outputs": [
    {
     "name": "stdout",
     "output_type": "stream",
     "text": [
      "logic clk;\n",
      "logic reset;\n",
      "logic [WIDTH-1:0]\tdata_in;\n",
      "logic [WIDTH-1:0]\tdata_out;\n"
     ]
    }
   ],
   "source": [
    "print(define_text)"
   ]
  },
  {
   "cell_type": "code",
   "execution_count": null,
   "metadata": {},
   "outputs": [],
   "source": []
  }
 ],
 "metadata": {
  "kernelspec": {
   "display_name": "python38",
   "language": "python",
   "name": "python3"
  },
  "language_info": {
   "codemirror_mode": {
    "name": "ipython",
    "version": 3
   },
   "file_extension": ".py",
   "mimetype": "text/x-python",
   "name": "python",
   "nbconvert_exporter": "python",
   "pygments_lexer": "ipython3",
   "version": "3.8.13"
  },
  "orig_nbformat": 4
 },
 "nbformat": 4,
 "nbformat_minor": 2
}
